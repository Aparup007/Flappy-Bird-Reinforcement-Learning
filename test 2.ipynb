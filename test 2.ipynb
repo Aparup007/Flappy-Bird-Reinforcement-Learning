{
  "nbformat": 4,
  "nbformat_minor": 0,
  "metadata": {
    "colab": {
      "provenance": []
    },
    "kernelspec": {
      "name": "python3",
      "display_name": "Python 3"
    },
    "language_info": {
      "name": "python"
    }
  },
  "cells": [
    {
      "cell_type": "code",
      "execution_count": 10,
      "metadata": {
        "colab": {
          "base_uri": "https://localhost:8080/"
        },
        "id": "uAs1Kq2DJkiR",
        "outputId": "0d513dd3-79dd-44d3-9662-b6ede2c085cc"
      },
      "outputs": [
        {
          "output_type": "stream",
          "name": "stdout",
          "text": [
            "The current working directory is: /content/sample_data/Flappy_birds/src\n"
          ]
        }
      ],
      "source": [
        "import os\n",
        "\n",
        "# Get and print the current working directory\n",
        "current_working_directory = os.getcwd()\n",
        "print(f\"The current working directory is: {current_working_directory}\")"
      ]
    },
    {
      "cell_type": "code",
      "source": [
        "import os\n",
        "\n",
        "# Create directories if they don't exist\n",
        "if not os.path.exists(\"/content/sample_data/Flappy_birds/src/tensorboard\"):\n",
        "    os.makedirs(\"/content/sample_data/Flappy_birds/src/tensorboard\")\n",
        "\n",
        "if not os.path.exists(\"/content/sample_data/Flappy_birds/src/\"):\n",
        "    os.makedirs(\"/content/sample_data/Flappy_birds/src/\")\n",
        "\n",
        "# Change the working directory to a new directory (replace with the path you want)\n",
        "new_working_directory = \"/content/sample_data/Flappy_birds/src/\"\n",
        "os.chdir(new_working_directory)\n",
        "\n"
      ],
      "metadata": {
        "id": "N_COw0cwQPNv"
      },
      "execution_count": 18,
      "outputs": []
    },
    {
      "cell_type": "code",
      "source": [
        "def get_args():\n",
        "    parser = argparse.ArgumentParser(\n",
        "        \"\"\"Implementation of Deep Q Network to play Flappy Bird\"\"\")\n",
        "    parser.add_argument(\"--image_size\", type=int, default=84, help=\"The common width and height for all images\")\n",
        "    parser.add_argument(\"--saved_path\", type=str, default=\"trained_models\")\n",
        "\n",
        "    args = parser.parse_args()\n",
        "    return args\n",
        "\n",
        "\n",
        "def test(opt):\n",
        "    if torch.cuda.is_available():\n",
        "        torch.cuda.manual_seed(123)\n",
        "    else:\n",
        "        torch.manual_seed(123)\n",
        "    if torch.cuda.is_available():\n",
        "        model = torch.load(\"{}/flappy_bird\".format(opt.saved_path))\n",
        "    else:\n",
        "        model = torch.load(\"{}/flappy_bird\".format(opt.saved_path), map_location=lambda storage, loc: storage)\n",
        "    model.eval()\n",
        "    game_state = FlappyBird()\n",
        "    image, reward, terminal = game_state.next_frame(0)\n",
        "    image = pre_processing(image[:game_state.screen_width, :int(game_state.base_y)], opt.image_size, opt.image_size)\n",
        "    image = torch.from_numpy(image)\n",
        "    if torch.cuda.is_available():\n",
        "        model.cuda()\n",
        "        image = image.cuda()\n",
        "    state = torch.cat(tuple(image for _ in range(4)))[None, :, :, :]\n",
        "\n",
        "    while True:\n",
        "        prediction = model(state)[0]\n",
        "        action = torch.argmax(prediction) #[0]\n",
        "\n",
        "        next_image, reward, terminal = game_state.next_frame(action)\n",
        "        next_image = pre_processing(next_image[:game_state.screen_width, :int(game_state.base_y)], opt.image_size,\n",
        "                                    opt.image_size)\n",
        "        next_image = torch.from_numpy(next_image)\n",
        "        if torch.cuda.is_available():\n",
        "            next_image = next_image.cuda()\n",
        "        next_state = torch.cat((state[0, 1:, :, :], next_image))[None, :, :, :]\n",
        "\n",
        "        state = next_state\n",
        "\n",
        "\n",
        "if __name__ == \"__main__\":\n",
        "    from argparse import Namespace\n",
        "\n",
        "    # Set the arguments here instead of using command-line arguments\n",
        "    args = Namespace(image_size=84, saved_path=\"trained_models\")\n",
        "\n",
        "    test(args)\n"
      ],
      "metadata": {
        "id": "iPc5F4wdUaE4"
      },
      "execution_count": null,
      "outputs": []
    }
  ]
}